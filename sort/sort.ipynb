{
 "cells": [
  {
   "cell_type": "code",
   "execution_count": 1,
   "metadata": {},
   "outputs": [],
   "source": [
    "from filterpy.kalman import KalmanFilter\n",
    "from sklearn.utils.linear_assignment_ import linear_assignment\n",
    "import numpy as np"
   ]
  },
  {
   "cell_type": "code",
   "execution_count": 17,
   "metadata": {},
   "outputs": [],
   "source": [
    "def convert_bbox_to_z(bbox):\n",
    "  \"\"\"\n",
    "  Takes a bounding box in the form [x1,y1,x2,y2] and returns z in the form\n",
    "    [x,y,s,r] where x,y is the centre of the box and s is the scale/area and r is\n",
    "    the aspect ratio\n",
    "  \"\"\"\n",
    "  w = bbox[2]-bbox[0]\n",
    "  h = bbox[3]-bbox[1]\n",
    "  x = bbox[0]+w/2.\n",
    "  y = bbox[1]+h/2.\n",
    "  s = w*h    #scale is just area\n",
    "  r = w/float(h)\n",
    "  return np.array([x,y,s,r]).reshape((4,1))\n",
    "\n",
    "def convert_x_to_bbox(x,score=None):\n",
    "  \"\"\"\n",
    "  Takes a bounding box in the centre form [x,y,s,r] and returns it in the form\n",
    "    [x1,y1,x2,y2] where x1,y1 is the top left and x2,y2 is the bottom right\n",
    "  \"\"\"\n",
    "  w = np.sqrt(x[2]*x[3])\n",
    "  h = x[2]/w\n",
    "  if(score==None):\n",
    "    return np.array([x[0]-w/2.,x[1]-h/2.,x[0]+w/2.,x[1]+h/2.]).reshape((1,4))\n",
    "  else:\n",
    "    return np.array([x[0]-w/2.,x[1]-h/2.,x[0]+w/2.,x[1]+h/2.,score]).reshape((1,5))\n",
    "\n",
    "def init_kalman(bbox):\n",
    "    kf = KalmanFilter(dim_x=7, dim_z=4)\n",
    "    kf.F = np.array([[1,0,0,0,1,0,0],[0,1,0,0,0,1,0],[0,0,1,0,0,0,1],[0,0,0,1,0,0,0],  [0,0,0,0,1,0,0],[0,0,0,0,0,1,0],[0,0,0,0,0,0,1]])\n",
    "    kf.H = np.array([[1,0,0,0,0,0,0],[0,1,0,0,0,0,0],[0,0,1,0,0,0,0],[0,0,0,1,0,0,0]])\n",
    "\n",
    "    kf.R[2:,2:] *= 10.\n",
    "    kf.P[4:,4:] *= 1000. #give high uncertainty to the unobservable initial velocities\n",
    "    kf.P *= 10.\n",
    "    kf.Q[-1,-1] *= 0.01\n",
    "    kf.Q[4:,4:] *= 0.01\n",
    "    kf.x[:4] = convert_bbox_to_z(bbox)\n",
    "    return kf\n",
    "\n",
    "def update(k, bbox):\n",
    "    k.update(convert_bbox_to_z(bbox))\n",
    "    if((k.x[6]+k.x[2])<=0):\n",
    "        k.x[6] *= 0.0\n",
    "    k.predict()\n",
    "    print(convert_x_to_bbox(k.x))\n",
    "    return k"
   ]
  },
  {
   "cell_type": "code",
   "execution_count": 32,
   "metadata": {},
   "outputs": [
    {
     "name": "stdout",
     "output_type": "stream",
     "text": [
      "[[1. 2. 3. 4.]]\n"
     ]
    }
   ],
   "source": [
    "eg_bbox_0 = np.array([1,2,3,4])\n",
    "eg_bbox_1 = np.array([2,3,4,5])\n",
    "eg_bbox_2 = np.array([3,4,5,6])\n",
    "eg_bbox_3 = np.array([4,5,6,7])\n",
    "eg_bbox_4 = np.array([5,6,7,8])\n",
    "k = init_kalman([1,2,3,4])\n",
    "print(convert_x_to_bbox(k.x))"
   ]
  },
  {
   "cell_type": "code",
   "execution_count": 33,
   "metadata": {},
   "outputs": [
    {
     "name": "stdout",
     "output_type": "stream",
     "text": [
      "[[1.90909091 2.90909091 3.90909091 4.90909091]]\n"
     ]
    }
   ],
   "source": [
    "k1 = update(k,np.array([2,3,4,5]))"
   ]
  },
  {
   "cell_type": "code",
   "execution_count": 41,
   "metadata": {},
   "outputs": [
    {
     "name": "stdout",
     "output_type": "stream",
     "text": [
      "KalmanFilter object\n",
      "dim_x = 7\n",
      "dim_z = 4\n",
      "dim_u = 0\n",
      "x = [[11.01525988 12.01525988  4.          1.          1.00947188  1.00947188.T\n",
      "P = [[2.11974368 0.         0.         0.         0.31665898 0.\n",
      "      0.        ]\n",
      "     [0.         2.11974368 0.         0.         0.         0.31665898\n",
      "      0.        ]\n",
      "     [0.         0.         7.46174712 0.         0.         0.\n",
      "      1.12828865]\n",
      "     [0.         0.         0.         3.72220852 0.         0.\n",
      "      0.        ]\n",
      "     [0.31665898 0.         0.         0.         0.21148179 0.\n",
      "      0.        ]\n",
      "     [0.         0.31665898 0.         0.         0.         0.21148179\n",
      "      0.        ]\n",
      "     [0.         0.         1.12828865 0.         0.         0.\n",
      "      0.34061377]]\n",
      "F = [[1 0 0 0 1 0 0]\n",
      "     [0 1 0 0 0 1 0]\n",
      "     [0 0 1 0 0 0 1]\n",
      "     [0 0 0 1 0 0 0]\n",
      "     [0 0 0 0 1 0 0]\n",
      "     [0 0 0 0 0 1 0]\n",
      "     [0 0 0 0 0 0 1]]\n",
      "Q = [[1.e+00 0.e+00 0.e+00 0.e+00 0.e+00 0.e+00 0.e+00]\n",
      "     [0.e+00 1.e+00 0.e+00 0.e+00 0.e+00 0.e+00 0.e+00]\n",
      "     [0.e+00 0.e+00 1.e+00 0.e+00 0.e+00 0.e+00 0.e+00]\n",
      "     [0.e+00 0.e+00 0.e+00 1.e+00 0.e+00 0.e+00 0.e+00]\n",
      "     [0.e+00 0.e+00 0.e+00 0.e+00 1.e-02 0.e+00 0.e+00]\n",
      "     [0.e+00 0.e+00 0.e+00 0.e+00 0.e+00 1.e-02 0.e+00]\n",
      "     [0.e+00 0.e+00 0.e+00 0.e+00 0.e+00 0.e+00 1.e-04]]\n",
      "R = [[ 1.  0.  0.  0.]\n",
      "     [ 0.  1.  0.  0.]\n",
      "     [ 0.  0. 10.  0.]\n",
      "     [ 0.  0.  0. 10.]]\n",
      "H = [[1 0 0 0 0 0 0]\n",
      "     [0 1 0 0 0 0 0]\n",
      "     [0 0 1 0 0 0 0]\n",
      "     [0 0 0 1 0 0 0]]\n",
      "K = [[0.68790751 0.         0.         0.        ]\n",
      "     [0.         0.68790751 0.         0.        ]\n",
      "     [0.         0.         0.45456836 0.        ]\n",
      "     [0.         0.         0.         0.27222085]\n",
      "     [0.11517719 0.         0.         0.        ]\n",
      "     [0.         0.11517719 0.         0.        ]\n",
      "     [0.         0.         0.07877749 0.        ]]\n",
      "y = [[-0.01854576 -0.01854576  0.          0.        ]].T\n",
      "S = [[ 3.20417836  0.          0.          0.        ]\n",
      "     [ 0.          3.20417836  0.          0.        ]\n",
      "     [ 0.          0.         18.3341032   0.        ]\n",
      "     [ 0.          0.          0.         13.74043215]]\n",
      "M = [[0. 0. 0. 0.]\n",
      "     [0. 0. 0. 0.]\n",
      "     [0. 0. 0. 0.]\n",
      "     [0. 0. 0. 0.]]\n",
      "B = None\n",
      "log-likelihood = -7.604869984477857\n",
      "alpha = 1.0\n",
      "inv = <function inv at 0x0000000005D7A400>\n"
     ]
    }
   ],
   "source": [
    "print(k)"
   ]
  },
  {
   "cell_type": "code",
   "execution_count": 34,
   "metadata": {},
   "outputs": [
    {
     "name": "stdout",
     "output_type": "stream",
     "text": [
      "[[4.09048277 5.09048277 6.09048277 7.09048277]]\n"
     ]
    }
   ],
   "source": [
    "k = update(k,np.array([3,4,5,6]))"
   ]
  },
  {
   "cell_type": "code",
   "execution_count": 35,
   "metadata": {},
   "outputs": [
    {
     "name": "stdout",
     "output_type": "stream",
     "text": [
      "[[5.05724513 6.05724513 7.05724513 8.05724513]]\n"
     ]
    }
   ],
   "source": [
    "k = update(k,np.array([4,5,6,7]))"
   ]
  },
  {
   "cell_type": "code",
   "execution_count": 36,
   "metadata": {},
   "outputs": [
    {
     "name": "stdout",
     "output_type": "stream",
     "text": [
      "[[6.04010397 7.04010397 8.04010397 9.04010397]]\n"
     ]
    }
   ],
   "source": [
    "k = update(k,np.array([5,6,7,8]))"
   ]
  },
  {
   "cell_type": "code",
   "execution_count": 37,
   "metadata": {},
   "outputs": [
    {
     "name": "stdout",
     "output_type": "stream",
     "text": [
      "[[ 7.02981672  8.02981672  9.02981672 10.02981672]]\n"
     ]
    }
   ],
   "source": [
    "k = update(k,np.array([6,7,8,9]))"
   ]
  },
  {
   "cell_type": "code",
   "execution_count": 38,
   "metadata": {},
   "outputs": [
    {
     "name": "stdout",
     "output_type": "stream",
     "text": [
      "[[ 8.02313144  9.02313144 10.02313144 11.02313144]]\n"
     ]
    }
   ],
   "source": [
    "k = update(k,np.array([7,8,9,10]))"
   ]
  },
  {
   "cell_type": "code",
   "execution_count": 39,
   "metadata": {},
   "outputs": [
    {
     "name": "stdout",
     "output_type": "stream",
     "text": [
      "[[ 9.01854576 10.01854576 11.01854576 12.01854576]]\n"
     ]
    }
   ],
   "source": [
    "k = update(k,np.array([8,9,10,11]))"
   ]
  },
  {
   "cell_type": "code",
   "execution_count": 40,
   "metadata": {},
   "outputs": [
    {
     "name": "stdout",
     "output_type": "stream",
     "text": [
      "[[10.01525988 11.01525988 12.01525988 13.01525988]]\n"
     ]
    }
   ],
   "source": [
    "k = update(k,np.array([9,10,11,12]))"
   ]
  }
 ],
 "metadata": {
  "kernelspec": {
   "display_name": "Python 3",
   "language": "python",
   "name": "python3"
  },
  "language_info": {
   "codemirror_mode": {
    "name": "ipython",
    "version": 3
   },
   "file_extension": ".py",
   "mimetype": "text/x-python",
   "name": "python",
   "nbconvert_exporter": "python",
   "pygments_lexer": "ipython3",
   "version": "3.6.4"
  }
 },
 "nbformat": 4,
 "nbformat_minor": 2
}
