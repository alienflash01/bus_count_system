{
 "cells": [
  {
   "cell_type": "code",
   "execution_count": 1,
   "metadata": {},
   "outputs": [],
   "source": [
    "from filterpy.kalman import KalmanFilter\n",
    "from sklearn.utils.linear_assignment_ import linear_assignment\n",
    "import numpy as np\n",
    "from sort_utils import iou, convert_bbox_to_z, convert_x_to_bbox"
   ]
  },
  {
   "cell_type": "code",
   "execution_count": 3,
   "metadata": {},
   "outputs": [],
   "source": [
    "def init_kalman(bbox):\n",
    "    kf = KalmanFilter(dim_x=7, dim_z=4)\n",
    "    kf.F = np.array([[1,0,0,0,1,0,0],[0,1,0,0,0,1,0],[0,0,1,0,0,0,1],[0,0,0,1,0,0,0],  [0,0,0,0,1,0,0],[0,0,0,0,0,1,0],[0,0,0,0,0,0,1]])\n",
    "    kf.H = np.array([[1,0,0,0,0,0,0],[0,1,0,0,0,0,0],[0,0,1,0,0,0,0],[0,0,0,1,0,0,0]])\n",
    "    kf.R[2:,2:] *= 10.\n",
    "    kf.P[4:,4:] *= 1000. #give high uncertainty to the unobservable initial velocities\n",
    "    kf.P *= 10.\n",
    "    kf.Q[-1,-1] *= 0.01\n",
    "    kf.Q[4:,4:] *= 0.01\n",
    "    kf.x[:4] = convert_bbox_to_z(bbox)\n",
    "    return kf\n",
    "\n",
    "def update(k, bbox):\n",
    "    k.update(convert_bbox_to_z(bbox))\n",
    "    if((k.x[6]+k.x[2])<=0):\n",
    "        k.x[6] *= 0.0\n",
    "    k.predict()\n",
    "    pre_bbox = convert_x_to_bbox(k.x)\n",
    "    return k, pre_bbox"
   ]
  },
  {
   "cell_type": "code",
   "execution_count": 31,
   "metadata": {},
   "outputs": [
    {
     "name": "stdout",
     "output_type": "stream",
     "text": [
      "0.00010000000000000005\n"
     ]
    }
   ],
   "source": [
    "a = 0.03\n",
    "b = 0.04\n",
    "print(np.square(a - b))"
   ]
  },
  {
   "cell_type": "code",
   "execution_count": 41,
   "metadata": {},
   "outputs": [
    {
     "name": "stdout",
     "output_type": "stream",
     "text": [
      "[[0.2 2.3]\n",
      " [0.8 1.3]\n",
      " [1.8 0.3]]\n",
      "[[0 0]\n",
      " [2 1]]\n",
      "[0 0]\n",
      "[2 1]\n"
     ]
    },
    {
     "ename": "AttributeError",
     "evalue": "'numpy.ndarray' object has no attribute 'update'",
     "output_type": "error",
     "traceback": [
      "\u001b[1;31m---------------------------------------------------------------------------\u001b[0m",
      "\u001b[1;31mAttributeError\u001b[0m                            Traceback (most recent call last)",
      "\u001b[1;32m<ipython-input-41-c46c6017d0a1>\u001b[0m in \u001b[0;36m<module>\u001b[1;34m()\u001b[0m\n\u001b[0;32m     12\u001b[0m \u001b[1;32mfor\u001b[0m \u001b[0mi\u001b[0m \u001b[1;32min\u001b[0m \u001b[0mmatched_indices\u001b[0m\u001b[1;33m:\u001b[0m\u001b[1;33m\u001b[0m\u001b[0m\n\u001b[0;32m     13\u001b[0m     \u001b[0mprint\u001b[0m\u001b[1;33m(\u001b[0m\u001b[0mi\u001b[0m\u001b[1;33m)\u001b[0m\u001b[1;33m\u001b[0m\u001b[0m\n\u001b[1;32m---> 14\u001b[1;33m \u001b[0mmatched_indices\u001b[0m\u001b[1;33m.\u001b[0m\u001b[0mupdate\u001b[0m\u001b[1;33m(\u001b[0m\u001b[1;33m)\u001b[0m\u001b[1;33m\u001b[0m\u001b[0m\n\u001b[0m",
      "\u001b[1;31mAttributeError\u001b[0m: 'numpy.ndarray' object has no attribute 'update'"
     ]
    }
   ],
   "source": [
    "detections = [1,2,3]\n",
    "trackers = [1.2,3.3]\n",
    "iou_matrix = np.zeros((len(detections),len(trackers)))\n",
    "for d, det in enumerate(detections):\n",
    "    for t, trk in enumerate(trackers):\n",
    "        iou_matrix[d,t] = np.abs(det - trk)\n",
    "print(iou_matrix)\n",
    "matched_indices = linear_assignment(iou_matrix)\n",
    "print(matched_indices)\n",
    "# print(matched_indices[:,0])\n",
    "# print(matched_indices[:,1])\n",
    "for i in matched_indices:\n",
    "    print(i)\n",
    "matched_indices.update()"
   ]
  },
  {
   "cell_type": "code",
   "execution_count": null,
   "metadata": {},
   "outputs": [],
   "source": [
    "eg_bbox_0 = np.array([1,2,3,4])\n",
    "eg_bbox_1 = np.array([2,3,4,5])\n",
    "eg_bbox_2 = np.array([3,4,5,6])\n",
    "eg_bbox_3 = np.array([4,5,6,7])\n",
    "eg_bbox_4 = np.array([5,6,7,8])\n",
    "k = init_kalman([1,2,3,4])\n",
    "print(convert_x_to_bbox(k.x))"
   ]
  },
  {
   "cell_type": "code",
   "execution_count": null,
   "metadata": {},
   "outputs": [],
   "source": [
    "k1 = update(k,np.array([2,3,4,5]))"
   ]
  },
  {
   "cell_type": "code",
   "execution_count": null,
   "metadata": {},
   "outputs": [],
   "source": [
    "print(k)"
   ]
  },
  {
   "cell_type": "code",
   "execution_count": null,
   "metadata": {},
   "outputs": [],
   "source": [
    "k = update(k,np.array([3,4,5,6]))"
   ]
  },
  {
   "cell_type": "code",
   "execution_count": null,
   "metadata": {},
   "outputs": [],
   "source": [
    "k = update(k,np.array([4,5,6,7]))"
   ]
  },
  {
   "cell_type": "code",
   "execution_count": null,
   "metadata": {},
   "outputs": [],
   "source": [
    "k = update(k,np.array([5,6,7,8]))"
   ]
  },
  {
   "cell_type": "code",
   "execution_count": null,
   "metadata": {},
   "outputs": [],
   "source": [
    "k = update(k,np.array([6,7,8,9]))"
   ]
  },
  {
   "cell_type": "code",
   "execution_count": null,
   "metadata": {},
   "outputs": [],
   "source": [
    "k = update(k,np.array([7,8,9,10]))"
   ]
  },
  {
   "cell_type": "code",
   "execution_count": null,
   "metadata": {},
   "outputs": [],
   "source": [
    "k = update(k,np.array([8,9,10,11]))"
   ]
  },
  {
   "cell_type": "code",
   "execution_count": null,
   "metadata": {},
   "outputs": [],
   "source": [
    "k = update(k,np.array([9,10,11,12]))"
   ]
  }
 ],
 "metadata": {
  "kernelspec": {
   "display_name": "Python 3",
   "language": "python",
   "name": "python3"
  },
  "language_info": {
   "codemirror_mode": {
    "name": "ipython",
    "version": 3
   },
   "file_extension": ".py",
   "mimetype": "text/x-python",
   "name": "python",
   "nbconvert_exporter": "python",
   "pygments_lexer": "ipython3",
   "version": "3.6.1"
  }
 },
 "nbformat": 4,
 "nbformat_minor": 2
}
